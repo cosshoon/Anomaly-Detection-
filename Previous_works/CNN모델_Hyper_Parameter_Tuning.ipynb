{
  "nbformat": 4,
  "nbformat_minor": 0,
  "metadata": {
    "colab": {
      "name": "CNN모델 Hyper Parameter Tuning",
      "provenance": [],
      "collapsed_sections": [],
      "authorship_tag": "ABX9TyPgtzWn1RU4I7f+zGHXMD4q",
      "include_colab_link": true
    },
    "kernelspec": {
      "name": "python3",
      "display_name": "Python 3"
    },
    "language_info": {
      "name": "python"
    },
    "accelerator": "GPU"
  },
  "cells": [
    {
      "cell_type": "markdown",
      "metadata": {
        "id": "view-in-github",
        "colab_type": "text"
      },
      "source": [
        "<a href=\"https://colab.research.google.com/github/cosshoon/Anomaly-Detection-/blob/main/Previous_works/CNN%EB%AA%A8%EB%8D%B8_Hyper_Parameter_Tuning.ipynb\" target=\"_parent\"><img src=\"https://colab.research.google.com/assets/colab-badge.svg\" alt=\"Open In Colab\"/></a>"
      ]
    },
    {
      "cell_type": "code",
      "metadata": {
        "id": "Zz0_9QVlYi89"
      },
      "source": [
        "#지난 과제 5에서 진행했던 데이터셋 및 CNN 모델 활용하여, 파라미터 튜닝 등 성능향상 시도\n",
        "# airplane, automobile, bird, cat, deer, dog, frog, horse, ship, truck 의 10개의 카테고리가 각각 6000장씩 있는 데이터셋\n",
        "import tensorflow as tf\n",
        "from tensorflow import keras \n",
        "\n",
        "import numpy as np\n",
        "import matplotlib.pyplot as plt\n",
        "\n",
        "cifar10 = keras.datasets.cifar10"
      ],
      "execution_count": null,
      "outputs": []
    },
    {
      "cell_type": "code",
      "metadata": {
        "id": "6-9T_nraY6zk",
        "colab": {
          "base_uri": "https://localhost:8080/"
        },
        "outputId": "858974b3-0823-4671-cac5-3fb6c72ff682"
      },
      "source": [
        "(x_train, y_train), (x_test, y_test) = cifar10.load_data()\n",
        "\n",
        "#train set 중에서 10000개를 validation set으로 나눔\n",
        "\n",
        "x_val, y_val = x_train[40000:,:,:], y_train[40000:]\n",
        "x_train, y_train = x_train[:40000,:], y_train[:40000,:]"
      ],
      "execution_count": null,
      "outputs": [
        {
          "output_type": "stream",
          "text": [
            "Downloading data from https://www.cs.toronto.edu/~kriz/cifar-10-python.tar.gz\n",
            "170500096/170498071 [==============================] - 6s 0us/step\n"
          ],
          "name": "stdout"
        }
      ]
    },
    {
      "cell_type": "code",
      "metadata": {
        "colab": {
          "base_uri": "https://localhost:8080/"
        },
        "id": "08jAFkUEY7Dw",
        "outputId": "6f1c7bdb-3fbc-4d49-91f4-39c46519fe53"
      },
      "source": [
        "# 데이터 표준화\n",
        "import numpy as np\n",
        "mean = np.mean(x_train, axis=0)\n",
        "print(\"mean.shape =\",mean.shape)\n",
        "std = np.std(x_train)\n",
        "print(\"std =\",std)\n",
        "\n",
        "x_train_centered = (x_train-mean)/std\n",
        "x_val_centered = (x_val-mean)/std\n",
        "x_test_centered = (x_test-mean)/std"
      ],
      "execution_count": null,
      "outputs": [
        {
          "output_type": "stream",
          "text": [
            "mean.shape = (32, 32, 3)\n",
            "std = 64.19169405614137\n"
          ],
          "name": "stdout"
        }
      ]
    },
    {
      "cell_type": "code",
      "metadata": {
        "id": "o5TBpJGoY7Fd"
      },
      "source": [
        "# one hot encoding\n",
        "from tensorflow.keras.utils import to_categorical\n",
        "\n",
        "y_train_onehot = to_categorical(y_train)\n",
        "y_val_onehot = to_categorical(y_val)\n",
        "y_test_onehot = to_categorical(y_test)"
      ],
      "execution_count": null,
      "outputs": []
    },
    {
      "cell_type": "code",
      "metadata": {
        "id": "Lnk_KWjIY7HZ"
      },
      "source": [
        "from tensorflow.keras import layers, models"
      ],
      "execution_count": null,
      "outputs": []
    },
    {
      "cell_type": "code",
      "metadata": {
        "colab": {
          "base_uri": "https://localhost:8080/"
        },
        "id": "SLrTRRYqY7JZ",
        "outputId": "bb8a4246-9585-4d1e-999f-1bbc55d4719d"
      },
      "source": [
        "model1 = models.Sequential()\n",
        "\n",
        "model1.add(layers.Conv2D(32,(5,5), padding='valid', activation='relu', input_shape=(32,32,3)))\n",
        "\n",
        "model1.add(layers.MaxPool2D(2,2))\n",
        "model1.add(layers.Conv2D(64,(5,5), padding='valid', activation='relu'))\n",
        "model1.add(layers.Conv2D(128,(2,2), padding='valid', activation='relu'))\n",
        "model1.add(layers.MaxPool2D(2,2))\n",
        "model1.add(layers.Flatten())\n",
        "\n",
        "# dense layer에 넣기\n",
        "model1.add(layers.Dense(512, activation='relu'))\n",
        "model1.add(layers.Dropout(0.5))\n",
        "model1.add(layers.Dense(10, activation='softmax'))\n",
        "\n",
        "model1.summary()"
      ],
      "execution_count": null,
      "outputs": [
        {
          "output_type": "stream",
          "text": [
            "Model: \"sequential\"\n",
            "_________________________________________________________________\n",
            "Layer (type)                 Output Shape              Param #   \n",
            "=================================================================\n",
            "conv2d (Conv2D)              (None, 28, 28, 32)        2432      \n",
            "_________________________________________________________________\n",
            "max_pooling2d (MaxPooling2D) (None, 14, 14, 32)        0         \n",
            "_________________________________________________________________\n",
            "conv2d_1 (Conv2D)            (None, 10, 10, 64)        51264     \n",
            "_________________________________________________________________\n",
            "conv2d_2 (Conv2D)            (None, 9, 9, 128)         32896     \n",
            "_________________________________________________________________\n",
            "max_pooling2d_1 (MaxPooling2 (None, 4, 4, 128)         0         \n",
            "_________________________________________________________________\n",
            "flatten (Flatten)            (None, 2048)              0         \n",
            "_________________________________________________________________\n",
            "dense (Dense)                (None, 512)               1049088   \n",
            "_________________________________________________________________\n",
            "dropout (Dropout)            (None, 512)               0         \n",
            "_________________________________________________________________\n",
            "dense_1 (Dense)              (None, 10)                5130      \n",
            "=================================================================\n",
            "Total params: 1,140,810\n",
            "Trainable params: 1,140,810\n",
            "Non-trainable params: 0\n",
            "_________________________________________________________________\n"
          ],
          "name": "stdout"
        }
      ]
    },
    {
      "cell_type": "code",
      "metadata": {
        "colab": {
          "base_uri": "https://localhost:8080/"
        },
        "id": "I99beMWaazFf",
        "outputId": "657d4072-9322-480b-eb75-1162ad7b229c"
      },
      "source": [
        "model1.compile(loss='categorical_crossentropy', optimizer='adam', metrics=['acc'])\n",
        "\n",
        "history=model1.fit(x_train_centered, y_train_onehot, batch_size=32, epochs=20,\n",
        "                  validation_data=(x_val_centered, y_val_onehot))"
      ],
      "execution_count": null,
      "outputs": [
        {
          "output_type": "stream",
          "text": [
            "Epoch 1/20\n",
            "1250/1250 [==============================] - 13s 10ms/step - loss: 0.2395 - acc: 0.9279 - val_loss: 2.0924 - val_acc: 0.6712\n",
            "Epoch 2/20\n",
            "1250/1250 [==============================] - 11s 9ms/step - loss: 0.2259 - acc: 0.9310 - val_loss: 2.0631 - val_acc: 0.6795\n",
            "Epoch 3/20\n",
            "1250/1250 [==============================] - 11s 9ms/step - loss: 0.2228 - acc: 0.9293 - val_loss: 2.1070 - val_acc: 0.6686\n",
            "Epoch 4/20\n",
            "1250/1250 [==============================] - 11s 9ms/step - loss: 0.2416 - acc: 0.9249 - val_loss: 2.1153 - val_acc: 0.6785\n",
            "Epoch 5/20\n",
            "1250/1250 [==============================] - 11s 9ms/step - loss: 0.2303 - acc: 0.9296 - val_loss: 2.0421 - val_acc: 0.6769\n",
            "Epoch 6/20\n",
            "1250/1250 [==============================] - 11s 9ms/step - loss: 0.2290 - acc: 0.9315 - val_loss: 2.2031 - val_acc: 0.6692\n",
            "Epoch 7/20\n",
            "1250/1250 [==============================] - 11s 9ms/step - loss: 0.2373 - acc: 0.9255 - val_loss: 2.3398 - val_acc: 0.6690\n",
            "Epoch 8/20\n",
            "1250/1250 [==============================] - 11s 9ms/step - loss: 0.2313 - acc: 0.9292 - val_loss: 2.2476 - val_acc: 0.6704\n",
            "Epoch 9/20\n",
            "1250/1250 [==============================] - 11s 9ms/step - loss: 0.2233 - acc: 0.9308 - val_loss: 2.1756 - val_acc: 0.6800\n",
            "Epoch 10/20\n",
            "1250/1250 [==============================] - 11s 9ms/step - loss: 0.1994 - acc: 0.9383 - val_loss: 2.1505 - val_acc: 0.6726\n",
            "Epoch 11/20\n",
            "1250/1250 [==============================] - 11s 9ms/step - loss: 0.2209 - acc: 0.9338 - val_loss: 2.2398 - val_acc: 0.6732\n",
            "Epoch 12/20\n",
            "1250/1250 [==============================] - 11s 9ms/step - loss: 0.2404 - acc: 0.9283 - val_loss: 2.1171 - val_acc: 0.6768\n",
            "Epoch 13/20\n",
            "1250/1250 [==============================] - 11s 9ms/step - loss: 0.2105 - acc: 0.9345 - val_loss: 2.1302 - val_acc: 0.6787\n",
            "Epoch 14/20\n",
            "1250/1250 [==============================] - 11s 9ms/step - loss: 0.2216 - acc: 0.9331 - val_loss: 2.2111 - val_acc: 0.6755\n",
            "Epoch 15/20\n",
            "1250/1250 [==============================] - 11s 9ms/step - loss: 0.2129 - acc: 0.9350 - val_loss: 2.0793 - val_acc: 0.6720\n",
            "Epoch 16/20\n",
            "1250/1250 [==============================] - 11s 9ms/step - loss: 0.2239 - acc: 0.9329 - val_loss: 2.2078 - val_acc: 0.6736\n",
            "Epoch 17/20\n",
            "1250/1250 [==============================] - 11s 9ms/step - loss: 0.1984 - acc: 0.9381 - val_loss: 2.2961 - val_acc: 0.6823\n",
            "Epoch 18/20\n",
            "1250/1250 [==============================] - 11s 9ms/step - loss: 0.2232 - acc: 0.9350 - val_loss: 2.2033 - val_acc: 0.6795\n",
            "Epoch 19/20\n",
            "1250/1250 [==============================] - 11s 9ms/step - loss: 0.2125 - acc: 0.9364 - val_loss: 2.2114 - val_acc: 0.6767\n",
            "Epoch 20/20\n",
            "1250/1250 [==============================] - 11s 9ms/step - loss: 0.2127 - acc: 0.9357 - val_loss: 2.4960 - val_acc: 0.6775\n"
          ],
          "name": "stdout"
        }
      ]
    },
    {
      "cell_type": "code",
      "metadata": {
        "id": "wMXgvIQiiUO3",
        "colab": {
          "base_uri": "https://localhost:8080/"
        },
        "outputId": "58f8c43c-d938-4ecf-ef9a-2231ac96a76e"
      },
      "source": [
        "#하이퍼파라미터 튜닝을 통해 성능향상 시켜보기\n",
        "\n",
        "!pip install -q -U keras-tuner"
      ],
      "execution_count": null,
      "outputs": [
        {
          "output_type": "stream",
          "text": [
            "\u001b[?25l\r\u001b[K     |█████▏                          | 10kB 18.2MB/s eta 0:00:01\r\u001b[K     |██████████▍                     | 20kB 22.9MB/s eta 0:00:01\r\u001b[K     |███████████████▋                | 30kB 21.0MB/s eta 0:00:01\r\u001b[K     |████████████████████▉           | 40kB 17.6MB/s eta 0:00:01\r\u001b[K     |██████████████████████████      | 51kB 13.6MB/s eta 0:00:01\r\u001b[K     |███████████████████████████████▎| 61kB 15.2MB/s eta 0:00:01\r\u001b[K     |████████████████████████████████| 71kB 5.0MB/s \n",
            "\u001b[?25h  Building wheel for keras-tuner (setup.py) ... \u001b[?25l\u001b[?25hdone\n",
            "  Building wheel for terminaltables (setup.py) ... \u001b[?25l\u001b[?25hdone\n"
          ],
          "name": "stdout"
        }
      ]
    },
    {
      "cell_type": "code",
      "metadata": {
        "id": "GBY3KDntiivx"
      },
      "source": [
        "import kerastuner as kt"
      ],
      "execution_count": null,
      "outputs": []
    },
    {
      "cell_type": "code",
      "metadata": {
        "id": "NslbMm1CdeGN"
      },
      "source": [
        "def model_builder(hp):\n",
        "  model2 = models.Sequential()\n",
        "  model2.add(layers.Conv2D(32,(5,5), padding='valid', activation='relu', input_shape=(32,32,3)))\n",
        "\n",
        "  model2.add(layers.MaxPool2D(2,2))\n",
        "  model2.add(layers.Conv2D(64,(5,5), padding='valid', activation='relu'))\n",
        "  model2.add(layers.Conv2D(128,(2,2), padding='valid', activation='relu'))\n",
        "  model2.add(layers.MaxPool2D(2,2))\n",
        "  model2.add(layers.Flatten())\n",
        "  \n",
        "  # Dense Layer의 Output size를 바꾸기 위한 변수 선언\n",
        "  hp_units = hp.Int('units', min_value = 512, max_value = 2048, step = 512)\n",
        "\n",
        "  # Dense layer에 넣기\n",
        "  model2.add(layers.Dense(units = hp_units, activation='relu'))\n",
        "  model2.add(layers.Dropout(0.5))\n",
        "  model2.add(layers.Dense(10, activation='softmax'))\n",
        "\n",
        "  model2.summary()\n",
        "\n",
        "  #Adam Optimizer 학습률 선택지\n",
        "  hp_learning_rate = hp.Choice('learning_rate', values = [1e-2, 1e-3, 1e-4]) \n",
        "\n",
        "  #Optimizer에 학습률 변수를 넣기 위해 keras.optimziers.Adam 사용\n",
        "  model2.compile(optimizer = tf.keras.optimizers.Adam(learning_rate = hp_learning_rate),\n",
        "                loss='categorical_crossentropy', \n",
        "                metrics = ['accuracy'])\n",
        "  return model2\n"
      ],
      "execution_count": null,
      "outputs": []
    },
    {
      "cell_type": "code",
      "metadata": {
        "colab": {
          "base_uri": "https://localhost:8080/"
        },
        "id": "dLL88sgfnY2W",
        "outputId": "7a91573b-60bb-483d-fdb5-ee4cd91f4b0b"
      },
      "source": [
        "# 인스턴스 만들기\n",
        "tuner = kt.RandomSearch(model_builder,\n",
        "                     objective = 'val_accuracy', \n",
        "                     max_trials = 20)  "
      ],
      "execution_count": null,
      "outputs": [
        {
          "output_type": "stream",
          "text": [
            "Model: \"sequential\"\n",
            "_________________________________________________________________\n",
            "Layer (type)                 Output Shape              Param #   \n",
            "=================================================================\n",
            "conv2d (Conv2D)              (None, 28, 28, 32)        2432      \n",
            "_________________________________________________________________\n",
            "max_pooling2d (MaxPooling2D) (None, 14, 14, 32)        0         \n",
            "_________________________________________________________________\n",
            "conv2d_1 (Conv2D)            (None, 10, 10, 64)        51264     \n",
            "_________________________________________________________________\n",
            "conv2d_2 (Conv2D)            (None, 9, 9, 128)         32896     \n",
            "_________________________________________________________________\n",
            "max_pooling2d_1 (MaxPooling2 (None, 4, 4, 128)         0         \n",
            "_________________________________________________________________\n",
            "flatten (Flatten)            (None, 2048)              0         \n",
            "_________________________________________________________________\n",
            "dense (Dense)                (None, 512)               1049088   \n",
            "_________________________________________________________________\n",
            "dropout (Dropout)            (None, 512)               0         \n",
            "_________________________________________________________________\n",
            "dense_1 (Dense)              (None, 10)                5130      \n",
            "=================================================================\n",
            "Total params: 1,140,810\n",
            "Trainable params: 1,140,810\n",
            "Non-trainable params: 0\n",
            "_________________________________________________________________\n"
          ],
          "name": "stdout"
        }
      ]
    },
    {
      "cell_type": "code",
      "metadata": {
        "colab": {
          "base_uri": "https://localhost:8080/"
        },
        "id": "1uBXpkZEqL6e",
        "outputId": "4eb4bec2-7561-43c8-9f85-e0bbe904768f"
      },
      "source": [
        "tuner.search(x_train_centered, y_train_onehot, epochs = 20, validation_data = (x_val_centered, y_val_onehot))"
      ],
      "execution_count": null,
      "outputs": [
        {
          "output_type": "stream",
          "text": [
            "Trial 10 Complete [00h 03m 26s]\n",
            "val_accuracy: 0.10249999910593033\n",
            "\n",
            "Best val_accuracy So Far: 0.7289999723434448\n",
            "Total elapsed time: 00h 37m 08s\n",
            "INFO:tensorflow:Oracle triggered exit\n"
          ],
          "name": "stdout"
        }
      ]
    },
    {
      "cell_type": "code",
      "metadata": {
        "colab": {
          "base_uri": "https://localhost:8080/"
        },
        "id": "qozYhH5nnbxo",
        "outputId": "b6825b9f-7e62-4076-bd49-70e426fb7c8e"
      },
      "source": [
        "best_hps = tuner.get_best_hyperparameters(num_trials = 1)[0]\n",
        "best_hps.values"
      ],
      "execution_count": null,
      "outputs": [
        {
          "output_type": "execute_result",
          "data": {
            "text/plain": [
              "{'learning_rate': 0.0001, 'units': 1536}"
            ]
          },
          "metadata": {
            "tags": []
          },
          "execution_count": 15
        }
      ]
    },
    {
      "cell_type": "code",
      "metadata": {
        "id": "YkNeBJnYsVvp",
        "colab": {
          "base_uri": "https://localhost:8080/"
        },
        "outputId": "ec1103ba-9288-4316-c441-71450905bd51"
      },
      "source": [
        "model2 = tuner.hypermodel.build(best_hps)\n",
        "\n",
        "history2=model2.fit(x_train_centered, y_train_onehot, batch_size=32, epochs=20,\n",
        "                  validation_data=(x_val_centered, y_val_onehot))"
      ],
      "execution_count": null,
      "outputs": [
        {
          "output_type": "stream",
          "text": [
            "Model: \"sequential\"\n",
            "_________________________________________________________________\n",
            "Layer (type)                 Output Shape              Param #   \n",
            "=================================================================\n",
            "conv2d (Conv2D)              (None, 28, 28, 32)        2432      \n",
            "_________________________________________________________________\n",
            "max_pooling2d (MaxPooling2D) (None, 14, 14, 32)        0         \n",
            "_________________________________________________________________\n",
            "conv2d_1 (Conv2D)            (None, 10, 10, 64)        51264     \n",
            "_________________________________________________________________\n",
            "conv2d_2 (Conv2D)            (None, 9, 9, 128)         32896     \n",
            "_________________________________________________________________\n",
            "max_pooling2d_1 (MaxPooling2 (None, 4, 4, 128)         0         \n",
            "_________________________________________________________________\n",
            "flatten (Flatten)            (None, 2048)              0         \n",
            "_________________________________________________________________\n",
            "dense (Dense)                (None, 1536)              3147264   \n",
            "_________________________________________________________________\n",
            "dropout (Dropout)            (None, 1536)              0         \n",
            "_________________________________________________________________\n",
            "dense_1 (Dense)              (None, 10)                15370     \n",
            "=================================================================\n",
            "Total params: 3,249,226\n",
            "Trainable params: 3,249,226\n",
            "Non-trainable params: 0\n",
            "_________________________________________________________________\n",
            "Epoch 1/20\n",
            "1250/1250 [==============================] - 13s 10ms/step - loss: 1.8265 - accuracy: 0.3307 - val_loss: 1.3619 - val_accuracy: 0.5118\n",
            "Epoch 2/20\n",
            "1250/1250 [==============================] - 11s 9ms/step - loss: 1.3114 - accuracy: 0.5292 - val_loss: 1.2075 - val_accuracy: 0.5779\n",
            "Epoch 3/20\n",
            "1250/1250 [==============================] - 11s 9ms/step - loss: 1.1598 - accuracy: 0.5889 - val_loss: 1.1126 - val_accuracy: 0.6085\n",
            "Epoch 4/20\n",
            "1250/1250 [==============================] - 11s 9ms/step - loss: 1.0456 - accuracy: 0.6355 - val_loss: 1.0759 - val_accuracy: 0.6257\n",
            "Epoch 5/20\n",
            "1250/1250 [==============================] - 11s 9ms/step - loss: 0.9569 - accuracy: 0.6658 - val_loss: 1.0110 - val_accuracy: 0.6481\n",
            "Epoch 6/20\n",
            "1250/1250 [==============================] - 11s 9ms/step - loss: 0.8742 - accuracy: 0.7001 - val_loss: 0.9405 - val_accuracy: 0.6716\n",
            "Epoch 7/20\n",
            "1250/1250 [==============================] - 11s 9ms/step - loss: 0.8186 - accuracy: 0.7167 - val_loss: 0.9020 - val_accuracy: 0.6872\n",
            "Epoch 8/20\n",
            "1250/1250 [==============================] - 11s 9ms/step - loss: 0.7560 - accuracy: 0.7376 - val_loss: 0.8789 - val_accuracy: 0.6972\n",
            "Epoch 9/20\n",
            "1250/1250 [==============================] - 11s 9ms/step - loss: 0.7024 - accuracy: 0.7535 - val_loss: 0.8847 - val_accuracy: 0.6992\n",
            "Epoch 10/20\n",
            "1250/1250 [==============================] - 11s 9ms/step - loss: 0.6562 - accuracy: 0.7728 - val_loss: 0.8381 - val_accuracy: 0.7140\n",
            "Epoch 11/20\n",
            "1250/1250 [==============================] - 11s 9ms/step - loss: 0.5978 - accuracy: 0.7952 - val_loss: 0.8322 - val_accuracy: 0.7214\n",
            "Epoch 12/20\n",
            "1250/1250 [==============================] - 11s 9ms/step - loss: 0.5525 - accuracy: 0.8121 - val_loss: 0.8420 - val_accuracy: 0.7167\n",
            "Epoch 13/20\n",
            "1250/1250 [==============================] - 11s 9ms/step - loss: 0.4982 - accuracy: 0.8303 - val_loss: 0.8398 - val_accuracy: 0.7183\n",
            "Epoch 14/20\n",
            "1250/1250 [==============================] - 11s 9ms/step - loss: 0.4548 - accuracy: 0.8432 - val_loss: 0.8318 - val_accuracy: 0.7269\n",
            "Epoch 15/20\n",
            "1250/1250 [==============================] - 11s 9ms/step - loss: 0.4100 - accuracy: 0.8604 - val_loss: 0.8568 - val_accuracy: 0.7246\n",
            "Epoch 16/20\n",
            "1250/1250 [==============================] - 11s 9ms/step - loss: 0.3732 - accuracy: 0.8735 - val_loss: 0.8545 - val_accuracy: 0.7319\n",
            "Epoch 17/20\n",
            "1250/1250 [==============================] - 11s 9ms/step - loss: 0.3291 - accuracy: 0.8899 - val_loss: 0.8797 - val_accuracy: 0.7295\n",
            "Epoch 18/20\n",
            "1250/1250 [==============================] - 11s 9ms/step - loss: 0.2965 - accuracy: 0.9012 - val_loss: 0.8933 - val_accuracy: 0.7293\n",
            "Epoch 19/20\n",
            "1250/1250 [==============================] - 11s 9ms/step - loss: 0.2559 - accuracy: 0.9159 - val_loss: 0.9036 - val_accuracy: 0.7325\n",
            "Epoch 20/20\n",
            "1250/1250 [==============================] - 11s 9ms/step - loss: 0.2364 - accuracy: 0.9218 - val_loss: 0.9262 - val_accuracy: 0.7267\n"
          ],
          "name": "stdout"
        }
      ]
    },
    {
      "cell_type": "code",
      "metadata": {
        "id": "-Pmi5MQesV6p",
        "colab": {
          "base_uri": "https://localhost:8080/"
        },
        "outputId": "8f1ead4f-50e5-4dcf-cf1c-d033bdb95a50"
      },
      "source": [
        "#테스트 이미지로 모델 1과 모델 2 성능 확인 및 비교\n",
        "\n",
        "test_loss, test_acc = model1.evaluate(x_test_centered, y_test_onehot, verbose=2)\n",
        "\n",
        "test_loss, test_acc = model2.evaluate(x_test_centered, y_test_onehot, verbose=2)"
      ],
      "execution_count": null,
      "outputs": [
        {
          "output_type": "stream",
          "text": [
            "313/313 - 1s - loss: 2.5539 - acc: 0.6737\n",
            "313/313 - 1s - loss: 0.9361 - accuracy: 0.7235\n"
          ],
          "name": "stdout"
        }
      ]
    },
    {
      "cell_type": "code",
      "metadata": {
        "id": "qc1OTXZF661y"
      },
      "source": [
        "# model 1에 비해서 하이퍼파라미터 튜닝을 진행한  model 2가 테스트셋의 정확도가 0.6737에서 0.7235로 증가한 것을 확인할 수 있다."
      ],
      "execution_count": null,
      "outputs": []
    }
  ]
}