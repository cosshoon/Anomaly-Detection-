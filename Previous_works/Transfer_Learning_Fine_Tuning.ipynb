{
  "nbformat": 4,
  "nbformat_minor": 0,
  "metadata": {
    "accelerator": "GPU",
    "colab": {
      "name": "Transfer_Learning_Fine_Tuning.ipynb",
      "provenance": [],
      "collapsed_sections": [],
      "include_colab_link": true
    },
    "kernelspec": {
      "display_name": "Python 3",
      "name": "python3"
    },
    "language_info": {
      "name": "python"
    }
  },
  "cells": [
    {
      "cell_type": "markdown",
      "metadata": {
        "id": "view-in-github",
        "colab_type": "text"
      },
      "source": [
        "<a href=\"https://colab.research.google.com/github/cosshoon/Anomaly-Detection-/blob/main/Previous_works/Transfer_Learning_Fine_Tuning.ipynb\" target=\"_parent\"><img src=\"https://colab.research.google.com/assets/colab-badge.svg\" alt=\"Open In Colab\"/></a>"
      ]
    },
    {
      "cell_type": "markdown",
      "metadata": {
        "id": "5xp0C2anBh3M"
      },
      "source": [
        "마스크 착용여부를 확인하는 모델을 만들어봅시다\n",
        "\n",
        "https://www.kaggle.com/prithwirajmitra/covid-face-mask-detection-dataset"
      ]
    },
    {
      "cell_type": "code",
      "metadata": {
        "id": "AxzRHuEACgZA"
      },
      "source": [
        "import tensorflow as tf\n",
        "import matplotlib.pyplot as plt"
      ],
      "execution_count": null,
      "outputs": []
    },
    {
      "cell_type": "code",
      "metadata": {
        "colab": {
          "base_uri": "https://localhost:8080/"
        },
        "id": "Uuxh7280nrE1",
        "outputId": "6315a790-36fe-4064-d208-6b3d9015d865"
      },
      "source": [
        "from google.colab import drive\n",
        "drive.mount('/g')"
      ],
      "execution_count": null,
      "outputs": [
        {
          "output_type": "stream",
          "text": [
            "Mounted at /g\n"
          ],
          "name": "stdout"
        }
      ]
    },
    {
      "cell_type": "code",
      "metadata": {
        "id": "EEXMMNcpCtNo"
      },
      "source": [
        "data_dir = '/g/MyDrive/★텐서플로AI (강의관련)/데이터모음/New Masks Dataset'\n",
        "img_height = 150\n",
        "img_width = 150"
      ],
      "execution_count": null,
      "outputs": []
    },
    {
      "cell_type": "markdown",
      "metadata": {
        "id": "awH_9AwKsRzh"
      },
      "source": [
        "Image Generator를 사용하여 학습데이터를 늘려봅시다\n",
        "\n",
        "https://www.tensorflow.org/api_docs/python/tf/keras/preprocessing/image/ImageDataGenerator"
      ]
    },
    {
      "cell_type": "code",
      "metadata": {
        "id": "AWpeY_YgrYKl"
      },
      "source": [
        "from tensorflow.keras.preprocessing.image import ImageDataGenerator"
      ],
      "execution_count": null,
      "outputs": []
    },
    {
      "cell_type": "code",
      "metadata": {
        "id": "76YCX9llrB4-"
      },
      "source": [
        "train_datagen = ImageDataGenerator(\n",
        "        rescale=1./255,\n",
        "        rotation_range=20,\n",
        "        zoom_range=0.2,\n",
        "        horizontal_flip=True)"
      ],
      "execution_count": null,
      "outputs": []
    },
    {
      "cell_type": "code",
      "metadata": {
        "colab": {
          "base_uri": "https://localhost:8080/"
        },
        "id": "Rg0lLEsiBoHK",
        "outputId": "72b05e06-1968-436f-9438-3651b8caf27d"
      },
      "source": [
        "train_ds = train_datagen.flow_from_directory(\n",
        "  data_dir+'/Train',    \n",
        "  target_size=(img_height, img_width),\n",
        "  class_mode = 'binary'\n",
        "  )"
      ],
      "execution_count": null,
      "outputs": [
        {
          "output_type": "stream",
          "text": [
            "Found 600 images belonging to 2 classes.\n"
          ],
          "name": "stdout"
        }
      ]
    },
    {
      "cell_type": "code",
      "metadata": {
        "colab": {
          "base_uri": "https://localhost:8080/"
        },
        "id": "05HMEZgcLKTt",
        "outputId": "6235524d-434f-4635-9a22-3417c9dd9168"
      },
      "source": [
        "val_ds = tf.keras.preprocessing.image_dataset_from_directory(\n",
        "  data_dir+'/Validation',    \n",
        "  image_size=(img_height, img_width))"
      ],
      "execution_count": null,
      "outputs": [
        {
          "output_type": "stream",
          "text": [
            "Found 306 files belonging to 2 classes.\n"
          ],
          "name": "stdout"
        }
      ]
    },
    {
      "cell_type": "code",
      "metadata": {
        "colab": {
          "base_uri": "https://localhost:8080/"
        },
        "id": "1KwZQU58LOcs",
        "outputId": "0fea75e6-43d9-42bd-9cb3-8bb7e3184985"
      },
      "source": [
        "test_ds = tf.keras.preprocessing.image_dataset_from_directory(\n",
        "  data_dir+'/Test',    \n",
        "  image_size=(img_height, img_width))"
      ],
      "execution_count": null,
      "outputs": [
        {
          "output_type": "stream",
          "text": [
            "Found 100 files belonging to 2 classes.\n"
          ],
          "name": "stdout"
        }
      ]
    },
    {
      "cell_type": "markdown",
      "metadata": {
        "id": "LNv__JIPTA2z"
      },
      "source": [
        "pretrained model을 불러와봅시다\n",
        "\n",
        "https://www.tensorflow.org/api_docs/python/tf/keras/applications"
      ]
    },
    {
      "cell_type": "code",
      "metadata": {
        "colab": {
          "base_uri": "https://localhost:8080/"
        },
        "id": "Dbr8Ve8wRHMK",
        "outputId": "d81cb6fc-66ab-43df-9780-285be350d1bf"
      },
      "source": [
        "from tensorflow.keras.applications import VGG16\n",
        "vgg_model = VGG16(weights = 'imagenet',include_top=False, input_shape=(150,150,3))"
      ],
      "execution_count": null,
      "outputs": [
        {
          "output_type": "stream",
          "text": [
            "Downloading data from https://storage.googleapis.com/tensorflow/keras-applications/vgg16/vgg16_weights_tf_dim_ordering_tf_kernels_notop.h5\n",
            "58892288/58889256 [==============================] - 0s 0us/step\n"
          ],
          "name": "stdout"
        }
      ]
    },
    {
      "cell_type": "code",
      "metadata": {
        "id": "-KSxs_-fg9DE"
      },
      "source": [
        "vgg_model.trainable = False"
      ],
      "execution_count": null,
      "outputs": []
    },
    {
      "cell_type": "code",
      "metadata": {
        "colab": {
          "base_uri": "https://localhost:8080/"
        },
        "id": "EI6-2Havh29U",
        "outputId": "da3c20aa-825b-4c79-99bf-1d74186ce48e"
      },
      "source": [
        "vgg_model.summary()"
      ],
      "execution_count": null,
      "outputs": [
        {
          "output_type": "stream",
          "text": [
            "Model: \"vgg16\"\n",
            "_________________________________________________________________\n",
            "Layer (type)                 Output Shape              Param #   \n",
            "=================================================================\n",
            "input_1 (InputLayer)         [(None, 150, 150, 3)]     0         \n",
            "_________________________________________________________________\n",
            "block1_conv1 (Conv2D)        (None, 150, 150, 64)      1792      \n",
            "_________________________________________________________________\n",
            "block1_conv2 (Conv2D)        (None, 150, 150, 64)      36928     \n",
            "_________________________________________________________________\n",
            "block1_pool (MaxPooling2D)   (None, 75, 75, 64)        0         \n",
            "_________________________________________________________________\n",
            "block2_conv1 (Conv2D)        (None, 75, 75, 128)       73856     \n",
            "_________________________________________________________________\n",
            "block2_conv2 (Conv2D)        (None, 75, 75, 128)       147584    \n",
            "_________________________________________________________________\n",
            "block2_pool (MaxPooling2D)   (None, 37, 37, 128)       0         \n",
            "_________________________________________________________________\n",
            "block3_conv1 (Conv2D)        (None, 37, 37, 256)       295168    \n",
            "_________________________________________________________________\n",
            "block3_conv2 (Conv2D)        (None, 37, 37, 256)       590080    \n",
            "_________________________________________________________________\n",
            "block3_conv3 (Conv2D)        (None, 37, 37, 256)       590080    \n",
            "_________________________________________________________________\n",
            "block3_pool (MaxPooling2D)   (None, 18, 18, 256)       0         \n",
            "_________________________________________________________________\n",
            "block4_conv1 (Conv2D)        (None, 18, 18, 512)       1180160   \n",
            "_________________________________________________________________\n",
            "block4_conv2 (Conv2D)        (None, 18, 18, 512)       2359808   \n",
            "_________________________________________________________________\n",
            "block4_conv3 (Conv2D)        (None, 18, 18, 512)       2359808   \n",
            "_________________________________________________________________\n",
            "block4_pool (MaxPooling2D)   (None, 9, 9, 512)         0         \n",
            "_________________________________________________________________\n",
            "block5_conv1 (Conv2D)        (None, 9, 9, 512)         2359808   \n",
            "_________________________________________________________________\n",
            "block5_conv2 (Conv2D)        (None, 9, 9, 512)         2359808   \n",
            "_________________________________________________________________\n",
            "block5_conv3 (Conv2D)        (None, 9, 9, 512)         2359808   \n",
            "_________________________________________________________________\n",
            "block5_pool (MaxPooling2D)   (None, 4, 4, 512)         0         \n",
            "=================================================================\n",
            "Total params: 14,714,688\n",
            "Trainable params: 0\n",
            "Non-trainable params: 14,714,688\n",
            "_________________________________________________________________\n"
          ],
          "name": "stdout"
        }
      ]
    },
    {
      "cell_type": "code",
      "metadata": {
        "id": "qHvM0CxJh4Xc"
      },
      "source": [
        "from tensorflow.keras import Sequential, Model, layers\n",
        "transfer_model = Sequential()"
      ],
      "execution_count": null,
      "outputs": []
    },
    {
      "cell_type": "code",
      "metadata": {
        "id": "7eY4QWYgiR2s"
      },
      "source": [
        "transfer_model.add(vgg_model)"
      ],
      "execution_count": null,
      "outputs": []
    },
    {
      "cell_type": "code",
      "metadata": {
        "colab": {
          "base_uri": "https://localhost:8080/"
        },
        "id": "VQJCK2_niUP0",
        "outputId": "4d7bb96f-401f-40c0-ce09-cd0880bdcc97"
      },
      "source": [
        "transfer_model.add(layers.Flatten())\n",
        "transfer_model.add(layers.Dense(256,activation='relu'))\n",
        "transfer_model.add(layers.Dropout(0.5))\n",
        "transfer_model.add(layers.Dense(1,activation='sigmoid'))\n",
        "\n",
        "transfer_model.summary()"
      ],
      "execution_count": null,
      "outputs": [
        {
          "output_type": "stream",
          "text": [
            "Model: \"sequential\"\n",
            "_________________________________________________________________\n",
            "Layer (type)                 Output Shape              Param #   \n",
            "=================================================================\n",
            "vgg16 (Functional)           (None, 4, 4, 512)         14714688  \n",
            "_________________________________________________________________\n",
            "flatten (Flatten)            (None, 8192)              0         \n",
            "_________________________________________________________________\n",
            "dense (Dense)                (None, 256)               2097408   \n",
            "_________________________________________________________________\n",
            "dropout (Dropout)            (None, 256)               0         \n",
            "_________________________________________________________________\n",
            "dense_1 (Dense)              (None, 1)                 257       \n",
            "=================================================================\n",
            "Total params: 16,812,353\n",
            "Trainable params: 2,097,665\n",
            "Non-trainable params: 14,714,688\n",
            "_________________________________________________________________\n"
          ],
          "name": "stdout"
        }
      ]
    },
    {
      "cell_type": "code",
      "metadata": {
        "colab": {
          "base_uri": "https://localhost:8080/"
        },
        "id": "kBAARlrLjRkl",
        "outputId": "308d1d69-f7f5-4711-9241-104c86220334"
      },
      "source": [
        "transfer_model.compile(loss='binary_crossentropy', optimizer='adam', metrics=['acc'])\n",
        "history = transfer_model.fit(train_ds, epochs=10, validation_data=val_ds)"
      ],
      "execution_count": null,
      "outputs": [
        {
          "output_type": "stream",
          "text": [
            "Epoch 1/10\n",
            "19/19 [==============================] - 160s 8s/step - loss: 1.0583 - acc: 0.6897 - val_loss: 12.4042 - val_acc: 0.8431\n",
            "Epoch 2/10\n",
            "19/19 [==============================] - 11s 601ms/step - loss: 0.2670 - acc: 0.9045 - val_loss: 8.8356 - val_acc: 0.8987\n",
            "Epoch 3/10\n",
            "19/19 [==============================] - 11s 597ms/step - loss: 0.1549 - acc: 0.9477 - val_loss: 6.7878 - val_acc: 0.9052\n",
            "Epoch 4/10\n",
            "19/19 [==============================] - 11s 594ms/step - loss: 0.1326 - acc: 0.9530 - val_loss: 4.5530 - val_acc: 0.9314\n",
            "Epoch 5/10\n",
            "19/19 [==============================] - 11s 604ms/step - loss: 0.1181 - acc: 0.9659 - val_loss: 5.5706 - val_acc: 0.9248\n",
            "Epoch 6/10\n",
            "19/19 [==============================] - 11s 595ms/step - loss: 0.0856 - acc: 0.9652 - val_loss: 4.5181 - val_acc: 0.9379\n",
            "Epoch 7/10\n",
            "19/19 [==============================] - 11s 591ms/step - loss: 0.0703 - acc: 0.9755 - val_loss: 3.2731 - val_acc: 0.9542\n",
            "Epoch 8/10\n",
            "19/19 [==============================] - 11s 601ms/step - loss: 0.1188 - acc: 0.9463 - val_loss: 3.9765 - val_acc: 0.9379\n",
            "Epoch 9/10\n",
            "19/19 [==============================] - 11s 609ms/step - loss: 0.0937 - acc: 0.9634 - val_loss: 3.8691 - val_acc: 0.9510\n",
            "Epoch 10/10\n",
            "19/19 [==============================] - 11s 597ms/step - loss: 0.0435 - acc: 0.9841 - val_loss: 5.2714 - val_acc: 0.9314\n"
          ],
          "name": "stdout"
        }
      ]
    },
    {
      "cell_type": "code",
      "metadata": {
        "colab": {
          "base_uri": "https://localhost:8080/"
        },
        "id": "RIz02NFzkF49",
        "outputId": "e72ca370-e465-4eb0-8a71-797201e872c6"
      },
      "source": [
        "vgg_model.trainable = True\n",
        "\n",
        "# 기본 모델에 몇 개의 층이 있는지 확인 합니다.\n",
        "print(\"Number of layers in the base model: \", len(vgg_model.layers))"
      ],
      "execution_count": null,
      "outputs": [
        {
          "output_type": "stream",
          "text": [
            "Number of layers in the base model:  19\n"
          ],
          "name": "stdout"
        }
      ]
    },
    {
      "cell_type": "code",
      "metadata": {
        "id": "cGQDyFNZuMXI"
      },
      "source": [
        "# 해당 층 이후부터 미세 조정\n",
        "fine_tune_at = 15\n",
        "\n",
        "# `fine_tune_at` 층 이전의 모든 층을 고정\n",
        "for layer in vgg_model.layers[:fine_tune_at]:\n",
        "  layer.trainable =  False"
      ],
      "execution_count": null,
      "outputs": []
    },
    {
      "cell_type": "code",
      "metadata": {
        "colab": {
          "base_uri": "https://localhost:8080/"
        },
        "id": "wx9Inufdbnza",
        "outputId": "974b7032-cfa8-41fd-bd28-eb47654cc80b"
      },
      "source": [
        "transfer_model.compile(loss='binary_crossentropy', optimizer=tf.keras.optimizers.Adam(learning_rate=0.0001), metrics=['acc'])\n",
        "transfer_model.summary()"
      ],
      "execution_count": null,
      "outputs": [
        {
          "output_type": "stream",
          "text": [
            "Model: \"sequential\"\n",
            "_________________________________________________________________\n",
            "Layer (type)                 Output Shape              Param #   \n",
            "=================================================================\n",
            "vgg16 (Functional)           (None, 4, 4, 512)         14714688  \n",
            "_________________________________________________________________\n",
            "flatten (Flatten)            (None, 8192)              0         \n",
            "_________________________________________________________________\n",
            "dense (Dense)                (None, 256)               2097408   \n",
            "_________________________________________________________________\n",
            "dropout (Dropout)            (None, 256)               0         \n",
            "_________________________________________________________________\n",
            "dense_1 (Dense)              (None, 1)                 257       \n",
            "=================================================================\n",
            "Total params: 16,812,353\n",
            "Trainable params: 9,177,089\n",
            "Non-trainable params: 7,635,264\n",
            "_________________________________________________________________\n"
          ],
          "name": "stdout"
        }
      ]
    },
    {
      "cell_type": "code",
      "metadata": {
        "colab": {
          "base_uri": "https://localhost:8080/"
        },
        "id": "WTVcbHtNk2j9",
        "outputId": "afd93cf6-cf8b-4ea1-8b05-1d29a145609d"
      },
      "source": [
        "history = transfer_model.fit(train_ds, epochs=10, validation_data=val_ds)"
      ],
      "execution_count": null,
      "outputs": [
        {
          "output_type": "stream",
          "text": [
            "Epoch 1/10\n",
            "19/19 [==============================] - 12s 620ms/step - loss: 0.5356 - acc: 0.8667 - val_loss: 12.9133 - val_acc: 0.8889\n",
            "Epoch 2/10\n",
            "19/19 [==============================] - 11s 595ms/step - loss: 0.1317 - acc: 0.9419 - val_loss: 5.6729 - val_acc: 0.9444\n",
            "Epoch 3/10\n",
            "19/19 [==============================] - 11s 604ms/step - loss: 0.0521 - acc: 0.9767 - val_loss: 4.0534 - val_acc: 0.9804\n",
            "Epoch 4/10\n",
            "19/19 [==============================] - 11s 592ms/step - loss: 0.0100 - acc: 0.9982 - val_loss: 4.4635 - val_acc: 0.9837\n",
            "Epoch 5/10\n",
            "19/19 [==============================] - 11s 593ms/step - loss: 0.0083 - acc: 0.9979 - val_loss: 5.1586 - val_acc: 0.9804\n",
            "Epoch 6/10\n",
            "19/19 [==============================] - 11s 597ms/step - loss: 0.0067 - acc: 0.9979 - val_loss: 5.4151 - val_acc: 0.9771\n",
            "Epoch 7/10\n",
            "19/19 [==============================] - 11s 594ms/step - loss: 0.0132 - acc: 0.9972 - val_loss: 3.5578 - val_acc: 0.9837\n",
            "Epoch 8/10\n",
            "19/19 [==============================] - 11s 602ms/step - loss: 0.0154 - acc: 0.9879 - val_loss: 7.7240 - val_acc: 0.9804\n",
            "Epoch 9/10\n",
            "19/19 [==============================] - 11s 603ms/step - loss: 0.0233 - acc: 0.9903 - val_loss: 4.1106 - val_acc: 0.9869\n",
            "Epoch 10/10\n",
            "19/19 [==============================] - 11s 602ms/step - loss: 0.0225 - acc: 0.9925 - val_loss: 10.2062 - val_acc: 0.9150\n"
          ],
          "name": "stdout"
        }
      ]
    },
    {
      "cell_type": "code",
      "metadata": {
        "id": "LO9WRZ4IkPIi"
      },
      "source": [
        ""
      ],
      "execution_count": null,
      "outputs": []
    }
  ]
}